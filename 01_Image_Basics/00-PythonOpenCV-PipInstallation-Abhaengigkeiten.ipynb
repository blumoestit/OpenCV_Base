{
 "cells": [
  {
   "cell_type": "markdown",
   "metadata": {},
   "source": [
    "<a href=\"https://www.datamics.com/courses/online-courses/\">![title](bg_datamics_top.png)</a>\n",
    "\n",
    "<center><em>© Datamics</em></center><br><center><em>Besuche uns für mehr Informationen auf <a href='https://www.datamics.com/courses/online-courses/'>www.datamics.com</a></em>\n",
    "\n",
    "# Installations-Notebook für alle Abhängigkeiten"
   ]
  },
  {
   "cell_type": "markdown",
   "metadata": {},
   "source": [
    "## Update PIP\n",
    "\n",
    "Um Sicherzugehen, dass du die neueste Version von Pip installiert hast, updaten wir in der nächsten Zeile dein Pip Modul. Dies kann einige Minuten dauern, auch wenn du die neuste Pip Version hast.  "
   ]
  },
  {
   "cell_type": "code",
   "execution_count": 1,
   "metadata": {},
   "outputs": [
    {
     "name": "stdout",
     "output_type": "stream",
     "text": [
      "Requirement already satisfied: pip in /Users/magdalenablum-oeste/opt/anaconda3/lib/python3.7/site-packages (21.1.2)\n",
      "Note: you may need to restart the kernel to use updated packages.\n"
     ]
    }
   ],
   "source": [
    "# Dieser Command Update pip auf die neuste stable Version\n",
    "%pip install --upgrade pip"
   ]
  },
  {
   "cell_type": "markdown",
   "metadata": {},
   "source": [
    "### Kapitel: Python Für Data Analysis \n",
    "\n",
    "#### NumPy\n",
    "\n",
    "NumPy (oder Numpy) ist eine Lineare Algebra Library für Python.\n",
    "\n",
    "Anwendung: Mathematische Operationen\n",
    "\n",
    "Vorteile: Schnelligkeit, Weitverbreitet\n",
    "\n",
    "https://docs.scipy.org/doc/numpy/reference/"
   ]
  },
  {
   "cell_type": "code",
   "execution_count": 2,
   "metadata": {
    "scrolled": true
   },
   "outputs": [
    {
     "name": "stdout",
     "output_type": "stream",
     "text": [
      "Requirement already satisfied: numpy in /Users/magdalenablum-oeste/opt/anaconda3/lib/python3.7/site-packages (1.20.0)\n",
      "Note: you may need to restart the kernel to use updated packages.\n"
     ]
    }
   ],
   "source": [
    "%pip install numpy"
   ]
  },
  {
   "cell_type": "markdown",
   "metadata": {},
   "source": [
    "#### Pillow\n",
    "Ist eine Bildbibilothek für Python\n",
    "\n",
    "https://pillow.readthedocs.io/en/stable/"
   ]
  },
  {
   "cell_type": "code",
   "execution_count": 3,
   "metadata": {},
   "outputs": [
    {
     "name": "stdout",
     "output_type": "stream",
     "text": [
      "Requirement already satisfied: pillow in /Users/magdalenablum-oeste/opt/anaconda3/lib/python3.7/site-packages (8.1.2)\n",
      "Note: you may need to restart the kernel to use updated packages.\n"
     ]
    }
   ],
   "source": [
    "%pip install pillow"
   ]
  },
  {
   "cell_type": "markdown",
   "metadata": {},
   "source": [
    "## Kapitel: Grundlagen-OpenCV-und-Bilder"
   ]
  },
  {
   "cell_type": "markdown",
   "metadata": {},
   "source": [
    "#### OpenCv\n",
    "OpenCV (Open Source Computer Vision Library) ist eine Open-Source-Bibliothek für Computer Vision und Machine Learning-Software. OpenCV wurde entwickelt, um eine gemeinsame Infrastruktur für Computer Vision-Anwendungen bereitzustellen und die Nutzung der maschinellen Wahrnehmung in den kommerziellen Produkten zu beschleunigen. Als BSD-lizenziertes Produkt macht OpenCV es Unternehmen leicht, den Code zu nutzen und zu ändern.\n",
    "\n",
    "Die Bibliothek verfügt über mehr als 2500 optimierte Algorithmen, die ein umfassendes Set an klassischen und modernen Computer Vision- und Machine Learning-Algorithmen beinhalten. Diese Algorithmen können verwendet werden, um Gesichter zu erkennen und zu erkennen, Objekte zu identifizieren, menschliche Handlungen in Videos zu klassifizieren, Kamerabewegungen zu verfolgen, bewegte Objekte zu verfolgen, 3D-Modelle von Objekten zu extrahieren, 3D-Punktwolken von Stereokameras zu erzeugen, Bilder zusammenzufügen, um ein hochauflösendes Bild einer ganzen Szene zu erzeugen, ähnliche Bilder aus einer Bilddatenbank zu finden, rote Augen aus Bildern zu entfernen, die mit Blitz aufgenommen wurden, Augenbewegungen zu folgen, Szenerien zu erkennen und Marker zu setzen, um sie mit Augmented Reality zu überlagern, etc.\n",
    "\n",
    "https://opencv.org/"
   ]
  },
  {
   "cell_type": "code",
   "execution_count": 4,
   "metadata": {},
   "outputs": [
    {
     "name": "stdout",
     "output_type": "stream",
     "text": [
      "Requirement already satisfied: opencv-python in /Users/magdalenablum-oeste/opt/anaconda3/lib/python3.7/site-packages (4.5.2.52)\n",
      "Requirement already satisfied: numpy>=1.14.5 in /Users/magdalenablum-oeste/opt/anaconda3/lib/python3.7/site-packages (from opencv-python) (1.20.0)\n",
      "Note: you may need to restart the kernel to use updated packages.\n"
     ]
    }
   ],
   "source": [
    "# Diese Zelle dauert einige Minuten\n",
    "%pip install opencv-python"
   ]
  },
  {
   "cell_type": "code",
   "execution_count": 5,
   "metadata": {
    "scrolled": true
   },
   "outputs": [
    {
     "name": "stdout",
     "output_type": "stream",
     "text": [
      "Requirement already satisfied: opencv-contrib-python in /Users/magdalenablum-oeste/opt/anaconda3/lib/python3.7/site-packages (4.5.2.52)\n",
      "Requirement already satisfied: numpy>=1.14.5 in /Users/magdalenablum-oeste/opt/anaconda3/lib/python3.7/site-packages (from opencv-contrib-python) (1.20.0)\n",
      "Note: you may need to restart the kernel to use updated packages.\n"
     ]
    }
   ],
   "source": [
    "%pip install opencv-contrib-python"
   ]
  },
  {
   "cell_type": "code",
   "execution_count": 6,
   "metadata": {
    "scrolled": true
   },
   "outputs": [
    {
     "name": "stdout",
     "output_type": "stream",
     "text": [
      "Collecting package metadata (current_repodata.json): done\n",
      "Solving environment: done\n",
      "\n",
      "## Package Plan ##\n",
      "\n",
      "  environment location: /Users/magdalenablum-oeste/opt/anaconda3\n",
      "\n",
      "  added / updated specs:\n",
      "    - opencv\n",
      "\n",
      "\n",
      "The following packages will be downloaded:\n",
      "\n",
      "    package                    |            build\n",
      "    ---------------------------|-----------------\n",
      "    ca-certificates-2021.5.25  |       hecd8cb5_1         111 KB\n",
      "    ------------------------------------------------------------\n",
      "                                           Total:         111 KB\n",
      "\n",
      "The following packages will be UPDATED:\n",
      "\n",
      "  ca-certificates                      2021.4.13-hecd8cb5_1 --> 2021.5.25-hecd8cb5_1\n",
      "\n",
      "\n",
      "\n",
      "Downloading and Extracting Packages\n",
      "ca-certificates-2021 | 111 KB    | ##################################### | 100% \n",
      "Preparing transaction: done\n",
      "Verifying transaction: done\n",
      "Executing transaction: done\n",
      "\n",
      "Note: you may need to restart the kernel to use updated packages.\n"
     ]
    }
   ],
   "source": [
    "%conda install -c menpo opencv"
   ]
  },
  {
   "cell_type": "code",
   "execution_count": 7,
   "metadata": {},
   "outputs": [
    {
     "name": "stdout",
     "output_type": "stream",
     "text": [
      "Requirement already satisfied: pyqt5 in /Users/magdalenablum-oeste/opt/anaconda3/lib/python3.7/site-packages (5.15.4)\n",
      "Requirement already satisfied: PyQt5-Qt5>=5.15 in /Users/magdalenablum-oeste/opt/anaconda3/lib/python3.7/site-packages (from pyqt5) (5.15.2)\n",
      "Requirement already satisfied: PyQt5-sip<13,>=12.8 in /Users/magdalenablum-oeste/opt/anaconda3/lib/python3.7/site-packages (from pyqt5) (12.9.0)\n",
      "Note: you may need to restart the kernel to use updated packages.\n"
     ]
    }
   ],
   "source": [
    "%pip install pyqt5"
   ]
  },
  {
   "cell_type": "markdown",
   "metadata": {},
   "source": [
    "#### Matplotlib\n",
    "Matplotlib ist quasi der Großvater der Daten Visualisierung mit Python. Es wurde von John Hunter geschaffen und sollte dazu dienen, die Möglichkeiten, die MatLab (eine weitere Programmiersprache) zur Visualisierung bietet, in Python nachzubilden. Wenn du MatLab kennst, dann wird dir Matplotlib vertraut vorkommen.\n",
    "\n",
    "Es ist eine exzellente 2D und 3D Grafik Library um wissenschaftliche Diagramme zu erzeugen.\n",
    "\n",
    "Einige der größten Vorteile von Matplotlib sind:\n",
    "\n",
    "* Generell ist es einfach mit simplen Plots loszulegen\n",
    "* Es werden eigene Labels und Texte unterstützt\n",
    "* Gute Kontrolle über jedes einzelne Element in einem Diagram\n",
    "* Output in hoher Qualität in viele Formate\n",
    "* Insgesamt sehr anpassbar\n",
    "\n",
    "Matplotlib erlaubt es uns wiederherstellbare Graphen durch Programmieren zu erstellen.\n",
    "\n",
    "[http://matplotlib.org/](http://matplotlib.org/)"
   ]
  },
  {
   "cell_type": "code",
   "execution_count": 8,
   "metadata": {},
   "outputs": [
    {
     "name": "stdout",
     "output_type": "stream",
     "text": [
      "Requirement already satisfied: matplotlib in /Users/magdalenablum-oeste/opt/anaconda3/lib/python3.7/site-packages (3.3.2)\n",
      "Requirement already satisfied: certifi>=2020.06.20 in /Users/magdalenablum-oeste/opt/anaconda3/lib/python3.7/site-packages (from matplotlib) (2020.12.5)\n",
      "Requirement already satisfied: pillow>=6.2.0 in /Users/magdalenablum-oeste/opt/anaconda3/lib/python3.7/site-packages (from matplotlib) (8.1.2)\n",
      "Requirement already satisfied: cycler>=0.10 in /Users/magdalenablum-oeste/opt/anaconda3/lib/python3.7/site-packages (from matplotlib) (0.10.0)\n",
      "Requirement already satisfied: numpy>=1.15 in /Users/magdalenablum-oeste/opt/anaconda3/lib/python3.7/site-packages (from matplotlib) (1.20.0)\n",
      "Requirement already satisfied: pyparsing!=2.0.4,!=2.1.2,!=2.1.6,>=2.0.3 in /Users/magdalenablum-oeste/opt/anaconda3/lib/python3.7/site-packages (from matplotlib) (2.4.7)\n",
      "Requirement already satisfied: kiwisolver>=1.0.1 in /Users/magdalenablum-oeste/opt/anaconda3/lib/python3.7/site-packages (from matplotlib) (1.3.1)\n",
      "Requirement already satisfied: python-dateutil>=2.1 in /Users/magdalenablum-oeste/opt/anaconda3/lib/python3.7/site-packages (from matplotlib) (2.8.1)\n",
      "Requirement already satisfied: six in /Users/magdalenablum-oeste/opt/anaconda3/lib/python3.7/site-packages (from cycler>=0.10->matplotlib) (1.15.0)\n",
      "Note: you may need to restart the kernel to use updated packages.\n"
     ]
    }
   ],
   "source": [
    "%pip install matplotlib"
   ]
  },
  {
   "cell_type": "markdown",
   "metadata": {},
   "source": [
    "## Kapitel: Deep Learning"
   ]
  },
  {
   "cell_type": "markdown",
   "metadata": {},
   "source": [
    "#### keras\n",
    "Keras ist eine High-Level-API für neuronale Netzwerke, die in Python geschrieben wurde und auf TensorFlow, CNTK oder Theano laufen kann. Es wurde mit dem Ziel entwickelt, schnelles Experimentieren zu ermöglichen. Die Fähigkeit, von der Idee zum Ergebnis mit möglichst geringer Verzögerung zu gelangen, ist der Schlüssel zu einer guten Forschung.\n",
    "\n",
    "https://keras.io/"
   ]
  },
  {
   "cell_type": "code",
   "execution_count": 9,
   "metadata": {},
   "outputs": [
    {
     "name": "stdout",
     "output_type": "stream",
     "text": [
      "Requirement already satisfied: keras in /Users/magdalenablum-oeste/opt/anaconda3/lib/python3.7/site-packages (2.4.3)\n",
      "Requirement already satisfied: numpy>=1.9.1 in /Users/magdalenablum-oeste/opt/anaconda3/lib/python3.7/site-packages (from keras) (1.20.0)\n",
      "Requirement already satisfied: pyyaml in /Users/magdalenablum-oeste/opt/anaconda3/lib/python3.7/site-packages (from keras) (5.4.1)\n",
      "Requirement already satisfied: h5py in /Users/magdalenablum-oeste/opt/anaconda3/lib/python3.7/site-packages (from keras) (2.10.0)\n",
      "Requirement already satisfied: scipy>=0.14 in /Users/magdalenablum-oeste/opt/anaconda3/lib/python3.7/site-packages (from keras) (1.6.0)\n",
      "Requirement already satisfied: six in /Users/magdalenablum-oeste/opt/anaconda3/lib/python3.7/site-packages (from h5py->keras) (1.15.0)\n",
      "Note: you may need to restart the kernel to use updated packages.\n"
     ]
    }
   ],
   "source": [
    "%pip install keras"
   ]
  },
  {
   "cell_type": "markdown",
   "metadata": {},
   "source": [
    "#### scipy\n",
    "\n",
    "SciPy (ausgesprochen \"Sigh Pie\") ist ein Python-basiertes Ökosystem aus Open-Source-Software für Mathematik, Naturwissenschaften und Technik. Dies sind insbesondere einige der Kernpakete:\n",
    "\n",
    "NumPy - Base N-dimensional array package\n",
    "SciPy -  library Fundamental library for scientific computing\n",
    "matplotlib - Comprehensive 2D Plotting\n",
    "ipython - Enhanced Interactive Console\n",
    "sympy - Symbolic mathematics\n",
    "pandas - Data structures & analysis\n",
    "\n",
    "https://www.scipy.org/"
   ]
  },
  {
   "cell_type": "code",
   "execution_count": 10,
   "metadata": {},
   "outputs": [
    {
     "name": "stdout",
     "output_type": "stream",
     "text": [
      "Requirement already satisfied: scipy in /Users/magdalenablum-oeste/opt/anaconda3/lib/python3.7/site-packages (1.6.0)\n",
      "Requirement already satisfied: numpy>=1.16.5 in /Users/magdalenablum-oeste/opt/anaconda3/lib/python3.7/site-packages (from scipy) (1.20.0)\n",
      "Note: you may need to restart the kernel to use updated packages.\n"
     ]
    }
   ],
   "source": [
    "%pip install scipy"
   ]
  },
  {
   "cell_type": "markdown",
   "metadata": {},
   "source": [
    "#### sklearn\n",
    "* Einfache und effiziente Tools für Data Mining und Datenanalyse\n",
    "* Für jedermann zugänglich und in verschiedenen Kontexten wiederverwendbar.\n",
    "* Aufbauend auf NumPy, SciPy und matplotlib\n",
    "* Open Source, kommerziell nutzbar - BSD-Lizenz\n",
    "\n",
    "https://scikit-learn.org/stable/"
   ]
  },
  {
   "cell_type": "code",
   "execution_count": 11,
   "metadata": {},
   "outputs": [
    {
     "name": "stdout",
     "output_type": "stream",
     "text": [
      "Requirement already satisfied: scikit-learn in /Users/magdalenablum-oeste/opt/anaconda3/lib/python3.7/site-packages (0.23.2)\n",
      "Requirement already satisfied: scipy>=0.19.1 in /Users/magdalenablum-oeste/opt/anaconda3/lib/python3.7/site-packages (from scikit-learn) (1.6.0)\n",
      "Requirement already satisfied: joblib>=0.11 in /Users/magdalenablum-oeste/opt/anaconda3/lib/python3.7/site-packages (from scikit-learn) (1.0.1)\n",
      "Requirement already satisfied: threadpoolctl>=2.0.0 in /Users/magdalenablum-oeste/opt/anaconda3/lib/python3.7/site-packages (from scikit-learn) (2.1.0)\n",
      "Requirement already satisfied: numpy>=1.13.3 in /Users/magdalenablum-oeste/opt/anaconda3/lib/python3.7/site-packages (from scikit-learn) (1.20.0)\n",
      "Note: you may need to restart the kernel to use updated packages.\n"
     ]
    }
   ],
   "source": [
    "%pip install scikit-learn"
   ]
  },
  {
   "cell_type": "markdown",
   "metadata": {},
   "source": [
    "### Neustarten des Python-Kernels\n",
    "Um alle installieren Packete und Bibliotheken zu verwenden muss der Python-Kernel von Jupyter Notebook neugestartet werden. "
   ]
  },
  {
   "cell_type": "code",
   "execution_count": 12,
   "metadata": {},
   "outputs": [
    {
     "data": {
      "text/html": [
       "<script>Jupyter.notebook.kernel.restart()</script>"
      ]
     },
     "metadata": {},
     "output_type": "display_data"
    }
   ],
   "source": [
    "# Diese Zelle starte den Kernel neu\n",
    "from IPython.display import display_html\n",
    "def restartkernel() :\n",
    "    display_html(\"<script>Jupyter.notebook.kernel.restart()</script>\",raw=True)\n",
    "\n",
    "\n",
    "restartkernel()    "
   ]
  }
 ],
 "metadata": {
  "kernelspec": {
   "display_name": "Python 3",
   "language": "python",
   "name": "python3"
  },
  "language_info": {
   "codemirror_mode": {
    "name": "ipython",
    "version": 3
   },
   "file_extension": ".py",
   "mimetype": "text/x-python",
   "name": "python",
   "nbconvert_exporter": "python",
   "pygments_lexer": "ipython3",
   "version": "3.7.4"
  }
 },
 "nbformat": 4,
 "nbformat_minor": 4
}
